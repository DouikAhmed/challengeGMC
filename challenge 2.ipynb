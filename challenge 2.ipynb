{
 "cells": [
  {
   "cell_type": "code",
   "execution_count": 14,
   "id": "ca72df3f",
   "metadata": {
    "scrolled": false
   },
   "outputs": [
    {
     "name": "stdout",
     "output_type": "stream",
     "text": [
      "choose a number and i will tell you if its a repdigit or not\n",
      "101\n",
      "101 in not a repdigit\n"
     ]
    }
   ],
   "source": [
    "print(\"choose a number and i will tell you if its a repdigit or not\")\n",
    "a = input()\n",
    "i = 0\n",
    "def fonct(x):\n",
    "    for i in x:\n",
    "        i =+ 1\n",
    "        if x[0] == x[i]:\n",
    "            print(x + \" is a repdigit\")\n",
    "        elif x[0] != x[i]:\n",
    "            print(x + \" in not a repdigit\")\n",
    "        break\n",
    "fonct(a)"
   ]
  },
  {
   "cell_type": "code",
   "execution_count": 13,
   "id": "99adb997",
   "metadata": {
    "scrolled": true
   },
   "outputs": [
    {
     "name": "stdout",
     "output_type": "stream",
     "text": [
      "make a list wich each element is separated by a /\n",
      "a/b/a/b/c/12/12/c\n"
     ]
    },
    {
     "data": {
      "text/plain": [
       "{'a': 2, 'b': 2, 'c': 2, '12': 2}"
      ]
     },
     "execution_count": 13,
     "metadata": {},
     "output_type": "execute_result"
    }
   ],
   "source": [
    "print(\"make a list wich each element is separated by a /\")\n",
    "str1 = input()                                #on prend un string par input\n",
    "list1 = list(str1.split(\"/\"))                 #conversion en liste\n",
    "dict1 = {}                                    #on crée noter dictionaire\n",
    "def fonc(a):\n",
    "    for i in a:                               #on commence la loop for\n",
    "        if i in dict1:                            #on compte les items dans la liste et on les mets dans le dictionnaire avec leur\n",
    "            dict1[i] += 1                         #nombre d'apparition comme valeur\n",
    "        else:\n",
    "            dict1[i] = 1\n",
    "    return(dict1)\n",
    "fonc(list1)                                  #on print le dictionnaire obtenu"
   ]
  },
  {
   "cell_type": "code",
   "execution_count": null,
   "id": "f4e68cb4",
   "metadata": {},
   "outputs": [],
   "source": [
    "print(\"enter a word\")\n",
    "stra = input()\n",
    "list2 = []\n",
    "i = 0\n",
    "def fon(a):\n",
    "    for i in range(len(a)):\n",
    "        list2.append(a[0:i+1])\n",
    "    for i in range(len(a)):\n",
    "        list2.append(a[0:i*(-1)])\n",
    "    list2.remove(\"\")\n",
    "    return(list2)\n",
    "fon(stra)"
   ]
  },
  {
   "cell_type": "code",
   "execution_count": 20,
   "id": "c181a6ab",
   "metadata": {
    "scrolled": true
   },
   "outputs": [
    {
     "name": "stdout",
     "output_type": "stream",
     "text": [
      "choose a number\n"
     ]
    },
    {
     "data": {
      "text/plain": [
       "10"
      ]
     },
     "execution_count": 20,
     "metadata": {},
     "output_type": "execute_result"
    }
   ],
   "source": [
    "def fonction(a):\n",
    "    print(\"choose a number\")\n",
    "    b = 1\n",
    "    for i in a:\n",
    "        b *= int(i)\n",
    "    return b\n",
    "fonction(\"152\")"
   ]
  },
  {
   "cell_type": "code",
   "execution_count": 10,
   "id": "57a0706f",
   "metadata": {},
   "outputs": [
    {
     "data": {
      "text/plain": [
       "[1, 1, 2, 1, 3, 0, 0]"
      ]
     },
     "execution_count": 10,
     "metadata": {},
     "output_type": "execute_result"
    }
   ],
   "source": [
    "list1 = [1, 0, 1, 2, 0, 1, 3]\n",
    "def fonctionn(b):\n",
    "    for i in b:\n",
    "        if b[i] == 0:\n",
    "            b.remove(b[i])\n",
    "            b.append(0)       \n",
    "        else:\n",
    "            continue\n",
    "    return(b)\n",
    "fonctionn(list1)"
   ]
  },
  {
   "cell_type": "code",
   "execution_count": null,
   "id": "d1ee7a1c",
   "metadata": {},
   "outputs": [],
   "source": []
  }
 ],
 "metadata": {
  "kernelspec": {
   "display_name": "Python 3",
   "language": "python",
   "name": "python3"
  },
  "language_info": {
   "codemirror_mode": {
    "name": "ipython",
    "version": 3
   },
   "file_extension": ".py",
   "mimetype": "text/x-python",
   "name": "python",
   "nbconvert_exporter": "python",
   "pygments_lexer": "ipython3",
   "version": "3.8.8"
  }
 },
 "nbformat": 4,
 "nbformat_minor": 5
}
